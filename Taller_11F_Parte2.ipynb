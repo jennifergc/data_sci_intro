{
  "nbformat": 4,
  "nbformat_minor": 0,
  "metadata": {
    "colab": {
      "provenance": []
    },
    "kernelspec": {
      "name": "python3",
      "display_name": "Python 3"
    },
    "language_info": {
      "name": "python"
    }
  },
  "cells": [
    {
      "cell_type": "markdown",
      "source": [
        "# Sesión 2: Exploración Avanzada y Modelado Básico con el Dataset de Clima\n",
        "\n",
        "En esta sesión utilizaremos el dataset **cleaned_weather.csv** para:\n",
        "\n",
        "- Realizar un análisis exploratorio avanzado (estadísticas descriptivas, visualizaciones y análisis de correlación).\n",
        "- Preparar los datos para modelado (ajuste de tipos, selección de variables, división en entrenamiento y prueba).\n",
        "- Entrenar un modelo de regresión lineal que prediga la **temperatura** a partir de otras variables (humedad, velocidad del viento, precipitación).\n",
        "\n",
        "A lo largo de la notebook encontrarás explicaciones detalladas y ejercicios para que puedas ir practicando cada paso.\n",
        "\n",
        "\n",
        "---"
      ],
      "metadata": {
        "id": "0xW-5U19K9_M"
      }
    },
    {
      "cell_type": "markdown",
      "source": [
        "## 1. Importación de Librerías y Carga del Dataset\n",
        "\n",
        "En este primer bloque cargaremos las librerías necesarias y leeremos el dataset **cleaned_weather.csv**.\n",
        "\n",
        "\n",
        "---"
      ],
      "metadata": {
        "id": "VU_61oY_LFu2"
      }
    },
    {
      "cell_type": "code",
      "execution_count": null,
      "metadata": {
        "id": "ZWAtwmFmK20F"
      },
      "outputs": [],
      "source": [
        "import numpy as np\n",
        "import pandas as pd\n",
        "import matplotlib.pyplot as plt\n",
        "import seaborn as sns\n",
        "\n",
        "# Configuración de visualización para gráficos en línea\n",
        "%matplotlib inline\n",
        "\n",
        "# Cargar el dataset \"dirty_cafe_sales.csv\"\n",
        "df = pd.read_csv(\"/cleaned_weather.csv\")\n",
        "\n",
        "# Mostrar dimensiones y primeras filas para conocer la estructura\n",
        "print(\"Dimensiones del DataFrame:\", df.shape)\n",
        "display(df.head())\n"
      ]
    },
    {
      "cell_type": "markdown",
      "source": [
        "## 2. Exploración Inicial del Dataset\n",
        "\n",
        "Observa las columnas y tipos de datos. En este ejemplo, asumiremos que las columnas son:\n",
        "- **date**: Fecha (string)\n",
        "- **temperature**: Temperatura (numérica) → Variable objetivo\n",
        "- **humidity**: Humedad (numérica)\n",
        "- **wind_speed**: Velocidad del viento (numérica)\n",
        "- **precipitation**: Precipitación (numérica)\n",
        "\n",
        "Ejercicio: Revisa la salida de `df.info()` y comenta en el chat si todos los tipos son los esperados.\n",
        "\n",
        "\n",
        "---"
      ],
      "metadata": {
        "id": "LdALC7DxLN5z"
      }
    },
    {
      "cell_type": "code",
      "source": [
        "# Revisar la información general del DataFrame\n",
        "df.info()\n",
        "\n",
        "# Mostrar estadísticas descriptivas para las columnas numéricas\n",
        "display(df.describe))\n",
        "\n"
      ],
      "metadata": {
        "id": "_jV1MQs5LXVd"
      },
      "execution_count": null,
      "outputs": []
    },
    {
      "cell_type": "markdown",
      "source": [
        "\n",
        "El dataset contiene 21 columnas, entre las que destacan:\n",
        "- **date**: Fecha en formato string.\n",
        "- **T**: Temperatura (variable que queremos predecir).\n",
        "- **p**: Presión.\n",
        "- **Tpot**: Temperatura potencial.\n",
        "- **Tdew**: Temperatura del punto de rocío.\n",
        "- **rh**: Humedad relativa.\n",
        "- **VPmax, VPact, VPdef**: Variables relacionadas con la presión de vapor.\n",
        "- **sh**: Humedad específica.\n",
        "- **H2OC**: Concentración de vapor de agua.\n",
        "- **rho**: Densidad.\n",
        "- **wv** y **max. wv**: Velocidad del viento.\n",
        "- **wd**: Dirección del viento.\n",
        "- **rain**: Precipitación.\n",
        "- **raining**: Indicador de lluvia.\n",
        "- **SWDR**: Radiación solar de onda corta.\n",
        "- **PAR** y **max. PAR**: Radiación fotosintéticamente activa.\n",
        "- **Tlog**: Temperatura logarítmica (u otra transformación de T).\n",
        "\n",
        "---"
      ],
      "metadata": {
        "id": "dlq5QJ2-SfCX"
      }
    },
    {
      "cell_type": "markdown",
      "source": [
        "## 3. Ajuste de Tipos y Conversión de la Columna de Fecha\n",
        "\n",
        "Es importante trabajar con fechas en formato datetime para aprovechar herramientas de series de tiempo. Convirtamos la columna **date** a formato datetime.\n",
        "\n",
        "Ejercicio: ¿Qué formato de fecha crees que tiene el archivo? (Por ejemplo, \"YYYY-MM-DD\"). Si no es ese, ajusta el parámetro `format`.\n",
        "\n",
        "\n",
        "---"
      ],
      "metadata": {
        "id": "qloKCgZgMkJd"
      }
    },
    {
      "cell_type": "code",
      "source": [
        "type(df['date'])\n",
        "df['date'].dtype\n",
        "print(type(df['date'].iloc[0]))\n",
        "print(df[date].dtype)\n",
        "prueba = df.copy()  ###### NO QUIERO CAMBIAR el dataframe que tengo guardado como 'df'"
      ],
      "metadata": {
        "id": "Rdu5z0bAO3O7"
      },
      "execution_count": null,
      "outputs": []
    },
    {
      "cell_type": "code",
      "source": [
        "# Convertir la columna \"date\" a formato datetime\n",
        "#df['date'] = pd.to_datetime(df['date'], format='%Y-%m-%d', errors='coerce')\n",
        "prueba['date'] = pd.to_datetime(prueba['date'])\n",
        "print(\"Tipo de 'date' después de la conversión:\", prueba['date'].dtype)\n",
        "\n",
        "# Opcional: Ordenar el DataFrame por fecha\n",
        "prueba = prueba.sort_values('date')\n",
        "display(prueba.head())\n"
      ],
      "metadata": {
        "id": "2qY6R14HMlpb"
      },
      "execution_count": null,
      "outputs": []
    },
    {
      "cell_type": "markdown",
      "source": [
        "## 4. Análisis Exploratorio Avanzado (EDA)\n",
        "\n",
        "Realizaremos:\n",
        "- Análisis descriptivo y visualizaciones para entender la distribución de la **temperatura** (`T`).\n",
        "- Exploración de relaciones entre `T` y otras variables (por ejemplo, `rh`, `rain`, `wv`, `SWDR` y `PAR`).\n",
        "- Análisis de correlación mediante un heatmap.\n",
        "\n",
        "Ejercicio: Observa el histograma de la temperatura y un scatter plot entre la humedad relativa (`rh`) y la temperatura (`T`). ¿Notas alguna tendencia?\n",
        "\n",
        "\n",
        "---"
      ],
      "metadata": {
        "id": "7Q7mH7EIRzJz"
      }
    },
    {
      "cell_type": "code",
      "source": [
        "# Histograma de la Temperatura\n",
        "plt.figure(figsize=(8, 5))\n",
        "plt.hist(df['Temperatura'].dropna(), bins=20, color='skyblue', edgecolor='black')\n",
        "plt.title('Distribución de la Temperatura (T)')\n",
        "plt.xlabel('Temperatura (T)')\n",
        "plt.ylabel('Frecuencia')\n",
        "plt.show()\n",
        "\n",
        "# Scatter plot: Humedad relativa (rh) vs Temperatura (T)\n",
        "plt.figure(figsize=(8, 5))\n",
        "plt.scatter(df['rh'], df['T'], alpha=0.6, color='orange')\n",
        "plt.title('Humedad Relativa (rh) vs Temperatura (T)')\n",
        "plt.xlabel('Humedad Relativa (rh)')\n",
        "plt.ylabel('Temperatura (T)')\n",
        "plt.show()\n",
        "\n"
      ],
      "metadata": {
        "id": "-lDekNDOR0jw"
      },
      "execution_count": null,
      "outputs": []
    },
    {
      "cell_type": "markdown",
      "source": [
        "### Análisis de Correlación\n",
        "\n",
        "Calculemos la matriz de correlación entre las variables numéricas para identificar relaciones potenciales, y visualicémosla con un heatmap.\n",
        "\n",
        "---"
      ],
      "metadata": {
        "id": "DOEdqPPLThRB"
      }
    },
    {
      "cell_type": "code",
      "source": [
        "# Seleccionar las columnas numéricas de interés\n",
        "cols_numericas = ['T', 'presión', 'Tpot', 'Tdew', 'rh', 'VPmax', 'VPact', 'VPdef', 'sh', 'H2OC', 'rho', 'wv', 'max. wv', 'wd', 'rain', 'raining', 'SWDR', 'PAR', 'max. PAR', 'Tlog']\n",
        "df_num = df[cols_numericas]\n",
        "\n",
        "# Calcular la matriz de correlación\n",
        "corr_matrix = df_num.corr()\n",
        "\n",
        "# Visualizar la matriz de correlación con un heatmap\n",
        "plt.figure(figsize=(12, 10))\n",
        "sns.heatmap(corr_matrix, annot=True, cmap=\"coolwarm\", fmt=\".2f\")\n",
        "plt.title('Matriz de Correlación entre Variables')\n",
        "plt.show()\n"
      ],
      "metadata": {
        "id": "dGjgP4c2TikK"
      },
      "execution_count": null,
      "outputs": []
    },
    {
      "cell_type": "markdown",
      "source": [
        "## Análisis de Series de Tiempo\n",
        "\n",
        "Ahora que hemos analizado las correlaciones entre variables, aprovecharemos la columna **date** para explorar la evolución de la temperatura (**T**) a lo largo del tiempo.\n",
        "\n",
        "**Pasos a seguir:**\n",
        "1. **Establecer la columna `date` como índice:** Esto nos permite utilizar las funcionalidades de resample y slicing basadas en fechas.\n",
        "2. **Re-muestrear los datos:** Agruparemos la temperatura por períodos (por ejemplo, mensual) para observar tendencias y patrones estacionales.\n",
        "3. **Visualizar la serie de tiempo:** Graficaremos la temperatura media por mes para identificar tendencias generales.\n",
        "\n",
        "**Ejercicio:**  \n",
        "- Modifica el período de resample (por ejemplo, semanal o anual) y observa cómo cambia la visualización.  \n",
        "- Intenta calcular una media móvil para suavizar la serie y destacar las tendencias a largo plazo.\n",
        "\n",
        "---"
      ],
      "metadata": {
        "id": "O3c81IqdqKE7"
      }
    },
    {
      "cell_type": "code",
      "source": [
        "df['date'] = pd.to_datetime(df['date'])"
      ],
      "metadata": {
        "id": "VSMoRkMJqnPk"
      },
      "execution_count": 57,
      "outputs": []
    },
    {
      "cell_type": "code",
      "source": [
        "# Creamos una copia del DataFrame para el análisis de series de tiempo\n",
        "df_ts = df.copy()\n",
        "\n",
        "# Establecer la columna \"date\" como índice (si no lo está)\n",
        "df_ts.set_index('date', inplace=True)\n",
        "\n",
        "# Resample: calcular la temperatura media mensual\n",
        "temp_mensual = df_ts['T'].resample('M').mean()\n",
        "\n",
        "# Graficar la serie de tiempo de la temperatura media mensual\n",
        "plt.figure(figsize=(12, 6))\n",
        "plt.plot(temp_mensual.index, temp_mensual, marker='o', linestyle='-')\n",
        "plt.title('Temperatura Media Mensual')\n",
        "plt.xlabel('Fecha')\n",
        "plt.ylabel('Temperatura (T)')\n",
        "plt.grid(True)\n",
        "plt.show()\n",
        "\n",
        "# Ejercicio adicional: calcular y graficar una media móvil (por ejemplo, de 3 meses)\n",
        "temp_mensual_mm = temp_mensual.rolling(window=3).mean()\n",
        "plt.figure(figsize=(12, 6))\n",
        "plt.plot(temp_mensual.index, temp_mensual, label='Temperatura Mensual', alpha=0.5)\n",
        "plt.plot(temp_mensual_mm.index, temp_mensual_mm, label='Media Móvil (3 meses)', color='red')\n",
        "plt.title('Temperatura Mensual y Media Móvil de 3 Meses')\n",
        "plt.xlabel('Fecha')\n",
        "plt.ylabel('Temperatura (T)')\n",
        "plt.legend()\n",
        "plt.grid(True)\n",
        "plt.show()\n"
      ],
      "metadata": {
        "id": "ZWQA1droqNUI"
      },
      "execution_count": null,
      "outputs": []
    },
    {
      "cell_type": "markdown",
      "source": [
        "## 5. Preparación de Datos para el Modelado\n",
        "\n",
        "El objetivo es predecir la **temperatura** (`T`). Seleccionaremos algunas variables predictoras relevantes. Para este ejemplo usaremos:\n",
        "- **rh** (humedad relativa)\n",
        "- **rain** (precipitación)\n",
        "- **wv** (velocidad del viento)\n",
        "- **SWDR** (radiación solar de onda corta)\n",
        "- **PAR** (radiación fotosintéticamente activa)\n",
        "\n",
        "Ejercicio: Verifica si existen valores nulos en estas columnas y, de ser necesario, rellena o elimina esas filas.\n",
        "\n",
        "---"
      ],
      "metadata": {
        "id": "toem3UYxTsUY"
      }
    },
    {
      "cell_type": "markdown",
      "source": [
        "## ¿En qué consiste el modelado y la separación de datos?\n",
        "\n",
        "**Modelado:**  \n",
        "El modelado en machine learning es el proceso de entrenar un algoritmo para que aprenda patrones a partir de los datos. La idea es que, una vez \"aprendido\", el modelo pueda predecir o clasificar datos nuevos que no ha visto durante el entrenamiento. Por ejemplo, en un problema de regresión, el modelo intenta predecir un valor numérico (como la temperatura) basándose en variables de entrada.\n",
        "\n",
        "**Separación de Datos de Entrenamiento y Prueba:**  \n",
        "Para evaluar la capacidad de generalización del modelo (es decir, qué tan bien funciona en datos no vistos), dividimos el conjunto de datos en dos partes:\n",
        "\n",
        "- **Conjunto de Entrenamiento:**  \n",
        "  Se utiliza para **ajustar el modelo**, es decir, para que el algoritmo encuentre los patrones y ajuste sus parámetros internamente.  \n",
        "- **Conjunto de Prueba:**  \n",
        "  Se reserva para **evaluar el rendimiento** del modelo una vez entrenado. Esto nos permite medir cómo se comporta el modelo con datos nuevos y estimar su capacidad de generalización.\n",
        "\n",
        "**Qué hace scikit-learn en cada parte:**\n",
        "\n",
        "- **train_test_split:**  \n",
        "  Scikit-learn proporciona la función `train_test_split` para dividir los datos de forma aleatoria en los conjuntos de entrenamiento y prueba, siguiendo una proporción definida (por ejemplo, 80% entrenamiento y 20% prueba).\n",
        "\n",
        "- **Entrenamiento (fit):**  \n",
        "  Cuando llamamos a `modelo.fit(X_train, y_train)`, scikit-learn utiliza el conjunto de entrenamiento para ajustar los parámetros del modelo. El algoritmo \"aprende\" de estos datos y establece internamente la relación entre las características (X) y la variable objetivo (y).\n",
        "\n",
        "- **Predicción (predict):**  \n",
        "  Luego, al usar `modelo.predict(X_test)`, el modelo utiliza los parámetros aprendidos para hacer predicciones sobre el conjunto de prueba.\n",
        "\n",
        "- **Evaluación:**  \n",
        "  Finalmente, se comparan las predicciones (`y_pred`) con los valores reales (`y_test`) usando métricas de evaluación (como RMSE o R² en problemas de regresión). Esto nos indica qué tan bien el modelo puede generalizar a datos nuevos.\n",
        "\n",
        "En resumen, el proceso de modelado con scikit-learn sigue estos pasos:\n",
        "1. Dividir los datos en entrenamiento y prueba.\n",
        "2. Entrenar el modelo usando el conjunto de entrenamiento.\n",
        "3. Predecir y evaluar el modelo usando el conjunto de prueba.\n",
        "\n",
        "Esta metodología nos ayuda a evitar el sobreajuste y a tener una estimación realista del desempeño del modelo en situaciones del mundo real.\n",
        "\n",
        "---"
      ],
      "metadata": {
        "id": "qNio2MXZVej8"
      }
    },
    {
      "cell_type": "markdown",
      "source": [
        "## ¿Qué forma tiene el modelo de regresión lineal que creamos?\n",
        "\n",
        "El modelo que construimos es un **modelo de regresión lineal**, el cual se representa mediante una ecuación lineal. Su forma general es:\n",
        "\n",
        "$$\n",
        "\\hat{y} = \\beta_0 + \\beta_1 \\cdot x_1 + \\beta_2 \\cdot x_2 + \\dots + \\beta_n \\cdot x_n\n",
        "$$\n",
        "\n",
        "donde:\n",
        "\n",
        "- $\\hat{y}$ es el valor predicho de la variable objetivo (en nuestro caso, la temperatura \"T\").\n",
        "- $\\beta_0$ es el **término de intersección** o **bias**; representa el valor de $\\hat{y}$ cuando todas las características $x_i$ son cero.\n",
        "- $\\beta_1, \\beta_2, \\dots, \\beta_n$ son los **coeficientes** o **pesos** asociados a cada característica $(x_1, x_2, \\dots, x_n)$. Cada uno indica cuánto influye la correspondiente variable predictora en el valor de $(\\hat{y})$.\n",
        "\n",
        "En nuestro ejemplo, si usamos las variables predictoras `rh`, `rain`, `wv`, `SWDR` y `PAR`, el modelo toma la forma:\n",
        "\n",
        "$$\n",
        "\\text{T} = \\beta_0 + \\beta_1 \\cdot \\text{rh} + \\beta_2 \\cdot \\text{rain} + \\beta_3 \\cdot \\text{wv} + \\beta_4 \\cdot \\text{SWDR} + \\beta_5 \\cdot \\text{PAR}\n",
        "$$\n",
        "\n",
        "El proceso de entrenamiento (usando `modelo.fit(X_train, y_train)`) consiste en encontrar los valores óptimos de $(\\beta_0, \\beta_1, \\dots, \\beta_5)$ que minimicen el error entre las predicciones $(\\hat{y})$ y los valores reales $(y)$. Una vez ajustado, el modelo puede predecir la temperatura para nuevos valores de las características.\n",
        "\n",
        "---"
      ],
      "metadata": {
        "id": "cr92VsdnVz80"
      }
    },
    {
      "cell_type": "code",
      "source": [
        "# Seleccionar las variables predictoras y la variable objetivo\n",
        "features = ['rh', 'rain', 'wv', 'SWDR', 'PAR']\n",
        "target = 'T'\n",
        "\n",
        "# Crear un DataFrame para modelado y eliminar filas con valores nulos en las columnas de interés\n",
        "df_model = df[features + [target]].dropna()\n",
        "\n",
        "print(\"Dimensiones del DataFrame para modelado:\", df_model.shape)\n",
        "display(df_model.head())\n"
      ],
      "metadata": {
        "id": "6Q0uB06-Tv56"
      },
      "execution_count": null,
      "outputs": []
    },
    {
      "cell_type": "markdown",
      "source": [
        "## 6. División en Conjuntos de Entrenamiento y Prueba\n",
        "\n",
        "Dividiremos el dataset en:\n",
        "- **80%** para entrenamiento.\n",
        "- **20%** para prueba.\n",
        "\n",
        "Ejercicio: Realiza la división y comprueba las dimensiones de cada subconjunto.\n",
        "\n",
        "---"
      ],
      "metadata": {
        "id": "V2oCnJkXT45p"
      }
    },
    {
      "cell_type": "code",
      "source": [
        "from sklearn.model_selection import train_test_split\n",
        "\n",
        "X = df_model[features]\n",
        "y = df_model[target]\n",
        "\n",
        "# Dividir en entrenamiento (80%) y prueba (20%)\n",
        "X_train, X_test, y_train, y_test = train_test_split(X, y, test_size=0.2, random_state=42)\n",
        "\n",
        "print(\"Dimensiones de X_train:\", X_train.shape)\n",
        "print(\"Dimensiones de X_test:\", X_test.shape)\n"
      ],
      "metadata": {
        "id": "8ZZWq0YfT7GN"
      },
      "execution_count": null,
      "outputs": []
    },
    {
      "cell_type": "markdown",
      "source": [
        "## 7. Construcción y Entrenamiento del Modelo de Regresión Lineal\n",
        "\n",
        "Utilizaremos un modelo de regresión lineal para predecir la temperatura (`T`) a partir de las variables seleccionadas.\n",
        "\n",
        "Pasos:\n",
        "- Crear el modelo.\n",
        "- Entrenarlo con el conjunto de entrenamiento.\n",
        "- Predecir sobre el conjunto de prueba.\n",
        "- Evaluar el desempeño usando RMSE y el coeficiente de determinación (R²).\n",
        "\n",
        "Ejercicio: Entrena el modelo y observa los resultados.\n"
      ],
      "metadata": {
        "id": "PhhVvkYMUCh2"
      }
    },
    {
      "cell_type": "code",
      "source": [
        "from sklearn.linear_model import LinearRegression\n",
        "from sklearn.metrics import mean_squared_error, r2_score\n",
        "import numpy as np\n",
        "\n",
        "# Crear y entrenar el modelo de regresión lineal\n",
        "modelo = LinearRegression()\n",
        "modelo.fit(X_train, y_train.values.ravel())  # Aseguramos que y_train sea 1D\n",
        "\n",
        "# Predecir en el conjunto de prueba\n",
        "y_pred = modelo.predict(X_test)\n",
        "\n",
        "# Calcular el MSE sin el parámetro 'squared'\n",
        "mse = mean_squared_error(y_test, y_pred)\n",
        "rmse = np.sqrt(mse)  # Calculamos la raíz cuadrada para obtener el RMSE\n",
        "\n",
        "# Calcular el coeficiente de determinación R²\n",
        "r2 = r2_score(y_test, y_pred)\n",
        "\n",
        "print(\"RMSE:\", rmse)\n",
        "print(\"R²:\", r2)\n"
      ],
      "metadata": {
        "id": "ShyEdqgrUEOb"
      },
      "execution_count": null,
      "outputs": []
    },
    {
      "cell_type": "markdown",
      "source": [
        "## 8. Conclusiones y Ejercicios Finales\n",
        "\n",
        "En esta sesión hemos:\n",
        "- Explorado en profundidad el dataset meteorológico, analizando su estructura, distribuciones y relaciones.\n",
        "- Convertido la columna **date** a formato datetime para un manejo correcto de la información temporal.\n",
        "- Preparado los datos seleccionando las variables predictoras y eliminando filas con valores nulos.\n",
        "- Dividido el dataset en conjuntos de entrenamiento y prueba.\n",
        "- Construido y evaluado un modelo de regresión lineal para predecir la temperatura.\n",
        "\n",
        "**Ejercicios para profundizar:**\n",
        "1. **Visualización Adicional:**  \n",
        "   - Realiza un scatter plot entre **wv** (velocidad del viento) y **T** y comenta la relación.\n",
        "   - Grafica la evolución de la temperatura a lo largo del tiempo usando la columna **date**.\n",
        "2. **Prueba con Otros Modelos:**  \n",
        "   - Sustituye la regresión lineal por un modelo de árbol de decisión (DecisionTreeRegressor) y compara las métricas.\n",
        "3. **Ajuste de Hiperparámetros:**  \n",
        "   - Experimenta variando las variables predictoras (por ejemplo, añade **Tdew** o **Tpot**) y observa cómo mejora o empeora el desempeño.\n",
        "\n",
        "Estos ejercicios te ayudarán a profundizar en el análisis de datos meteorológicos y en la construcción de modelos de machine learning básicos.\n"
      ],
      "metadata": {
        "id": "DeE96B7zUGTW"
      }
    },
    {
      "cell_type": "markdown",
      "source": [],
      "metadata": {
        "id": "BWJUFcn0LUMJ"
      }
    }
  ]
}